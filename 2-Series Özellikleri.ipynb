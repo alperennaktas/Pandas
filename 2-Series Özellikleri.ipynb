{
 "cells": [
  {
   "cell_type": "code",
   "execution_count": 1,
   "id": "713fbed5",
   "metadata": {},
   "outputs": [],
   "source": [
    "import numpy as np\n",
    "import pandas as pd"
   ]
  },
  {
   "cell_type": "code",
   "execution_count": 4,
   "id": "a035c1e9",
   "metadata": {},
   "outputs": [
    {
     "data": {
      "text/plain": [
       "1     mete\n",
       "2    timur\n",
       "3    fatih\n",
       "dtype: object"
      ]
     },
     "execution_count": 4,
     "metadata": {},
     "output_type": "execute_result"
    }
   ],
   "source": [
    "pd.Series([\"mete\", \"timur\", \"fatih\"],[1,2,3])"
   ]
  },
  {
   "cell_type": "code",
   "execution_count": 10,
   "id": "794c55c1",
   "metadata": {},
   "outputs": [],
   "source": [
    "yarismaSonucu1 = pd.Series([10,5,1],[\"mete\",\"timur\",\"fatih\"])"
   ]
  },
  {
   "cell_type": "code",
   "execution_count": 11,
   "id": "842b52e0",
   "metadata": {},
   "outputs": [
    {
     "data": {
      "text/plain": [
       "mete     10\n",
       "timur     5\n",
       "fatih     1\n",
       "dtype: int64"
      ]
     },
     "execution_count": 11,
     "metadata": {},
     "output_type": "execute_result"
    }
   ],
   "source": [
    "yarismaSonucu1"
   ]
  },
  {
   "cell_type": "code",
   "execution_count": 12,
   "id": "a465822a",
   "metadata": {},
   "outputs": [],
   "source": [
    "yarismaSonucu2 = pd.Series([20,10,8],[\"mete\",\"timur\",\"fatih\"])"
   ]
  },
  {
   "cell_type": "code",
   "execution_count": 13,
   "id": "cc8cc640",
   "metadata": {},
   "outputs": [
    {
     "data": {
      "text/plain": [
       "mete     20\n",
       "timur    10\n",
       "fatih     8\n",
       "dtype: int64"
      ]
     },
     "execution_count": 13,
     "metadata": {},
     "output_type": "execute_result"
    }
   ],
   "source": [
    "yarismaSonucu2"
   ]
  },
  {
   "cell_type": "code",
   "execution_count": 14,
   "id": "dd629b3a",
   "metadata": {},
   "outputs": [
    {
     "data": {
      "text/plain": [
       "20"
      ]
     },
     "execution_count": 14,
     "metadata": {},
     "output_type": "execute_result"
    }
   ],
   "source": [
    "yarismaSonucu2[\"mete\"]"
   ]
  },
  {
   "cell_type": "code",
   "execution_count": 15,
   "id": "d598e675",
   "metadata": {},
   "outputs": [],
   "source": [
    "sonSonuc = yarismaSonucu1 + yarismaSonucu2"
   ]
  },
  {
   "cell_type": "code",
   "execution_count": 16,
   "id": "b1c0e62c",
   "metadata": {},
   "outputs": [
    {
     "data": {
      "text/plain": [
       "mete     30\n",
       "timur    15\n",
       "fatih     9\n",
       "dtype: int64"
      ]
     },
     "execution_count": 16,
     "metadata": {},
     "output_type": "execute_result"
    }
   ],
   "source": [
    "sonSonuc"
   ]
  },
  {
   "cell_type": "code",
   "execution_count": null,
   "id": "5d62e27a",
   "metadata": {},
   "outputs": [],
   "source": []
  }
 ],
 "metadata": {
  "kernelspec": {
   "display_name": "Python 3 (ipykernel)",
   "language": "python",
   "name": "python3"
  },
  "language_info": {
   "codemirror_mode": {
    "name": "ipython",
    "version": 3
   },
   "file_extension": ".py",
   "mimetype": "text/x-python",
   "name": "python",
   "nbconvert_exporter": "python",
   "pygments_lexer": "ipython3",
   "version": "3.9.7"
  }
 },
 "nbformat": 4,
 "nbformat_minor": 5
}
