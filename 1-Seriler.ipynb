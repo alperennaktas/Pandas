{
 "cells": [
  {
   "cell_type": "code",
   "execution_count": 1,
   "id": "2e81af27",
   "metadata": {},
   "outputs": [],
   "source": [
    "#conda install pandas"
   ]
  },
  {
   "cell_type": "code",
   "execution_count": 2,
   "id": "775438aa",
   "metadata": {},
   "outputs": [],
   "source": [
    "#import pandas as pd"
   ]
  },
  {
   "cell_type": "code",
   "execution_count": 3,
   "id": "f39e3c70",
   "metadata": {},
   "outputs": [],
   "source": [
    "import pandas as pd"
   ]
  },
  {
   "cell_type": "code",
   "execution_count": 4,
   "id": "93cb2f65",
   "metadata": {},
   "outputs": [],
   "source": [
    "import numpy as np"
   ]
  },
  {
   "cell_type": "code",
   "execution_count": 5,
   "id": "dd92f20d",
   "metadata": {},
   "outputs": [],
   "source": [
    "#Series"
   ]
  },
  {
   "cell_type": "code",
   "execution_count": 6,
   "id": "104d81c4",
   "metadata": {},
   "outputs": [],
   "source": [
    "benimSozlugum = {\"Mete\":50,\"Timur\":40,\"Fatih\":21}"
   ]
  },
  {
   "cell_type": "code",
   "execution_count": 7,
   "id": "ab04e209",
   "metadata": {},
   "outputs": [
    {
     "data": {
      "text/plain": [
       "Mete     50\n",
       "Timur    40\n",
       "Fatih    21\n",
       "dtype: int64"
      ]
     },
     "execution_count": 7,
     "metadata": {},
     "output_type": "execute_result"
    }
   ],
   "source": [
    "pd.Series(benimSozlugum)"
   ]
  },
  {
   "cell_type": "code",
   "execution_count": 9,
   "id": "ac78de46",
   "metadata": {},
   "outputs": [],
   "source": [
    "benimYaslarım=[50,40,30]\n",
    "benimIsımlerim=[\"Mete\",\"Timur\",\"Fatih\"]"
   ]
  },
  {
   "cell_type": "code",
   "execution_count": 10,
   "id": "44e5b7ca",
   "metadata": {},
   "outputs": [
    {
     "data": {
      "text/plain": [
       "0    50\n",
       "1    40\n",
       "2    30\n",
       "dtype: int64"
      ]
     },
     "execution_count": 10,
     "metadata": {},
     "output_type": "execute_result"
    }
   ],
   "source": [
    "pd.Series(benimYaslarım)"
   ]
  },
  {
   "cell_type": "code",
   "execution_count": 11,
   "id": "6c9c501f",
   "metadata": {},
   "outputs": [
    {
     "data": {
      "text/plain": [
       "Mete     50\n",
       "Timur    40\n",
       "Fatih    30\n",
       "dtype: int64"
      ]
     },
     "execution_count": 11,
     "metadata": {},
     "output_type": "execute_result"
    }
   ],
   "source": [
    "pd.Series(benimYaslarım,benimIsımlerim)"
   ]
  },
  {
   "cell_type": "code",
   "execution_count": 12,
   "id": "e9c01848",
   "metadata": {},
   "outputs": [
    {
     "data": {
      "text/plain": [
       "Mete     50\n",
       "Timur    40\n",
       "Fatih    30\n",
       "dtype: int64"
      ]
     },
     "execution_count": 12,
     "metadata": {},
     "output_type": "execute_result"
    }
   ],
   "source": [
    "pd.Series(data=benimYaslarım, index=benimIsımlerim)"
   ]
  },
  {
   "cell_type": "code",
   "execution_count": 14,
   "id": "08c33e56",
   "metadata": {},
   "outputs": [],
   "source": [
    "numpyDizisi = np.array([50,40,30])"
   ]
  },
  {
   "cell_type": "code",
   "execution_count": 15,
   "id": "610aa34d",
   "metadata": {},
   "outputs": [
    {
     "data": {
      "text/plain": [
       "array([50, 40, 30])"
      ]
     },
     "execution_count": 15,
     "metadata": {},
     "output_type": "execute_result"
    }
   ],
   "source": [
    "numpyDizisi"
   ]
  },
  {
   "cell_type": "code",
   "execution_count": 16,
   "id": "641d6153",
   "metadata": {},
   "outputs": [
    {
     "data": {
      "text/plain": [
       "0    50\n",
       "1    40\n",
       "2    30\n",
       "dtype: int32"
      ]
     },
     "execution_count": 16,
     "metadata": {},
     "output_type": "execute_result"
    }
   ],
   "source": [
    "pd.Series(numpyDizisi)"
   ]
  },
  {
   "cell_type": "code",
   "execution_count": 17,
   "id": "7cd799c1",
   "metadata": {},
   "outputs": [
    {
     "data": {
      "text/plain": [
       "Mete     50\n",
       "Timur    40\n",
       "Fatih    30\n",
       "dtype: int32"
      ]
     },
     "execution_count": 17,
     "metadata": {},
     "output_type": "execute_result"
    }
   ],
   "source": [
    "pd.Series(numpyDizisi,benimIsımlerim)"
   ]
  },
  {
   "cell_type": "code",
   "execution_count": null,
   "id": "c75ff5c0",
   "metadata": {},
   "outputs": [],
   "source": []
  }
 ],
 "metadata": {
  "kernelspec": {
   "display_name": "Python 3 (ipykernel)",
   "language": "python",
   "name": "python3"
  },
  "language_info": {
   "codemirror_mode": {
    "name": "ipython",
    "version": 3
   },
   "file_extension": ".py",
   "mimetype": "text/x-python",
   "name": "python",
   "nbconvert_exporter": "python",
   "pygments_lexer": "ipython3",
   "version": "3.9.7"
  }
 },
 "nbformat": 4,
 "nbformat_minor": 5
}
