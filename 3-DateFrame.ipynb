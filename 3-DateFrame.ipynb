{
 "cells": [
  {
   "cell_type": "code",
   "execution_count": 1,
   "id": "f8c40049",
   "metadata": {},
   "outputs": [],
   "source": [
    "import numpy as np\n",
    "import pandas as pd"
   ]
  },
  {
   "cell_type": "code",
   "execution_count": 2,
   "id": "d870cfd3",
   "metadata": {},
   "outputs": [],
   "source": [
    "#DateFrame, serilerin yan yana gelmesinden oluşturulmuş excel tablosu olarak düşünülebilir."
   ]
  },
  {
   "cell_type": "code",
   "execution_count": 4,
   "id": "3e2f92dd",
   "metadata": {},
   "outputs": [],
   "source": [
    "data = np.random.randn(4,3)"
   ]
  },
  {
   "cell_type": "code",
   "execution_count": 5,
   "id": "0fd10064",
   "metadata": {},
   "outputs": [
    {
     "data": {
      "text/plain": [
       "array([[ 0.6879185 , -0.1188973 ,  0.49699233],\n",
       "       [-0.06713685, -0.58424532,  0.21763857],\n",
       "       [ 0.516575  , -0.4260945 , -0.61942021],\n",
       "       [ 1.13708869,  0.00336621, -0.08953276]])"
      ]
     },
     "execution_count": 5,
     "metadata": {},
     "output_type": "execute_result"
    }
   ],
   "source": [
    "data"
   ]
  },
  {
   "cell_type": "code",
   "execution_count": 6,
   "id": "5d00df81",
   "metadata": {},
   "outputs": [],
   "source": [
    "dataFrame = pd.DataFrame(data)"
   ]
  },
  {
   "cell_type": "code",
   "execution_count": 8,
   "id": "5f9b454e",
   "metadata": {},
   "outputs": [
    {
     "data": {
      "text/html": [
       "<div>\n",
       "<style scoped>\n",
       "    .dataframe tbody tr th:only-of-type {\n",
       "        vertical-align: middle;\n",
       "    }\n",
       "\n",
       "    .dataframe tbody tr th {\n",
       "        vertical-align: top;\n",
       "    }\n",
       "\n",
       "    .dataframe thead th {\n",
       "        text-align: right;\n",
       "    }\n",
       "</style>\n",
       "<table border=\"1\" class=\"dataframe\">\n",
       "  <thead>\n",
       "    <tr style=\"text-align: right;\">\n",
       "      <th></th>\n",
       "      <th>0</th>\n",
       "      <th>1</th>\n",
       "      <th>2</th>\n",
       "    </tr>\n",
       "  </thead>\n",
       "  <tbody>\n",
       "    <tr>\n",
       "      <th>0</th>\n",
       "      <td>0.687919</td>\n",
       "      <td>-0.118897</td>\n",
       "      <td>0.496992</td>\n",
       "    </tr>\n",
       "    <tr>\n",
       "      <th>1</th>\n",
       "      <td>-0.067137</td>\n",
       "      <td>-0.584245</td>\n",
       "      <td>0.217639</td>\n",
       "    </tr>\n",
       "    <tr>\n",
       "      <th>2</th>\n",
       "      <td>0.516575</td>\n",
       "      <td>-0.426095</td>\n",
       "      <td>-0.619420</td>\n",
       "    </tr>\n",
       "    <tr>\n",
       "      <th>3</th>\n",
       "      <td>1.137089</td>\n",
       "      <td>0.003366</td>\n",
       "      <td>-0.089533</td>\n",
       "    </tr>\n",
       "  </tbody>\n",
       "</table>\n",
       "</div>"
      ],
      "text/plain": [
       "          0         1         2\n",
       "0  0.687919 -0.118897  0.496992\n",
       "1 -0.067137 -0.584245  0.217639\n",
       "2  0.516575 -0.426095 -0.619420\n",
       "3  1.137089  0.003366 -0.089533"
      ]
     },
     "execution_count": 8,
     "metadata": {},
     "output_type": "execute_result"
    }
   ],
   "source": [
    "dataFrame"
   ]
  },
  {
   "cell_type": "code",
   "execution_count": 17,
   "id": "6349162a",
   "metadata": {},
   "outputs": [],
   "source": [
    "yeniDataFrame = pd.DataFrame(data,index =[\"Mete\",\"Fatih\",\"Timur\",\"Kaan\"],columns=[\"Maaş\",\"Yaş\",\"Çalışma saati\"])"
   ]
  },
  {
   "cell_type": "code",
   "execution_count": 18,
   "id": "fd21be74",
   "metadata": {},
   "outputs": [
    {
     "data": {
      "text/html": [
       "<div>\n",
       "<style scoped>\n",
       "    .dataframe tbody tr th:only-of-type {\n",
       "        vertical-align: middle;\n",
       "    }\n",
       "\n",
       "    .dataframe tbody tr th {\n",
       "        vertical-align: top;\n",
       "    }\n",
       "\n",
       "    .dataframe thead th {\n",
       "        text-align: right;\n",
       "    }\n",
       "</style>\n",
       "<table border=\"1\" class=\"dataframe\">\n",
       "  <thead>\n",
       "    <tr style=\"text-align: right;\">\n",
       "      <th></th>\n",
       "      <th>Maaş</th>\n",
       "      <th>Yaş</th>\n",
       "      <th>Çalışma saati</th>\n",
       "    </tr>\n",
       "  </thead>\n",
       "  <tbody>\n",
       "    <tr>\n",
       "      <th>Mete</th>\n",
       "      <td>0.687919</td>\n",
       "      <td>-0.118897</td>\n",
       "      <td>0.496992</td>\n",
       "    </tr>\n",
       "    <tr>\n",
       "      <th>Fatih</th>\n",
       "      <td>-0.067137</td>\n",
       "      <td>-0.584245</td>\n",
       "      <td>0.217639</td>\n",
       "    </tr>\n",
       "    <tr>\n",
       "      <th>Timur</th>\n",
       "      <td>0.516575</td>\n",
       "      <td>-0.426095</td>\n",
       "      <td>-0.619420</td>\n",
       "    </tr>\n",
       "    <tr>\n",
       "      <th>Kaan</th>\n",
       "      <td>1.137089</td>\n",
       "      <td>0.003366</td>\n",
       "      <td>-0.089533</td>\n",
       "    </tr>\n",
       "  </tbody>\n",
       "</table>\n",
       "</div>"
      ],
      "text/plain": [
       "           Maaş       Yaş  Çalışma saati\n",
       "Mete   0.687919 -0.118897       0.496992\n",
       "Fatih -0.067137 -0.584245       0.217639\n",
       "Timur  0.516575 -0.426095      -0.619420\n",
       "Kaan   1.137089  0.003366      -0.089533"
      ]
     },
     "execution_count": 18,
     "metadata": {},
     "output_type": "execute_result"
    }
   ],
   "source": [
    "yeniDataFrame"
   ]
  },
  {
   "cell_type": "code",
   "execution_count": 21,
   "id": "a9e98349",
   "metadata": {},
   "outputs": [
    {
     "data": {
      "text/plain": [
       "Mete    -0.118897\n",
       "Fatih   -0.584245\n",
       "Timur   -0.426095\n",
       "Kaan     0.003366\n",
       "Name: Yaş, dtype: float64"
      ]
     },
     "execution_count": 21,
     "metadata": {},
     "output_type": "execute_result"
    }
   ],
   "source": [
    "yeniDataFrame[\"Yaş\"]"
   ]
  },
  {
   "cell_type": "code",
   "execution_count": 22,
   "id": "23ab69e0",
   "metadata": {},
   "outputs": [
    {
     "data": {
      "text/html": [
       "<div>\n",
       "<style scoped>\n",
       "    .dataframe tbody tr th:only-of-type {\n",
       "        vertical-align: middle;\n",
       "    }\n",
       "\n",
       "    .dataframe tbody tr th {\n",
       "        vertical-align: top;\n",
       "    }\n",
       "\n",
       "    .dataframe thead th {\n",
       "        text-align: right;\n",
       "    }\n",
       "</style>\n",
       "<table border=\"1\" class=\"dataframe\">\n",
       "  <thead>\n",
       "    <tr style=\"text-align: right;\">\n",
       "      <th></th>\n",
       "      <th>Maaş</th>\n",
       "      <th>Yaş</th>\n",
       "    </tr>\n",
       "  </thead>\n",
       "  <tbody>\n",
       "    <tr>\n",
       "      <th>Mete</th>\n",
       "      <td>0.687919</td>\n",
       "      <td>-0.118897</td>\n",
       "    </tr>\n",
       "    <tr>\n",
       "      <th>Fatih</th>\n",
       "      <td>-0.067137</td>\n",
       "      <td>-0.584245</td>\n",
       "    </tr>\n",
       "    <tr>\n",
       "      <th>Timur</th>\n",
       "      <td>0.516575</td>\n",
       "      <td>-0.426095</td>\n",
       "    </tr>\n",
       "    <tr>\n",
       "      <th>Kaan</th>\n",
       "      <td>1.137089</td>\n",
       "      <td>0.003366</td>\n",
       "    </tr>\n",
       "  </tbody>\n",
       "</table>\n",
       "</div>"
      ],
      "text/plain": [
       "           Maaş       Yaş\n",
       "Mete   0.687919 -0.118897\n",
       "Fatih -0.067137 -0.584245\n",
       "Timur  0.516575 -0.426095\n",
       "Kaan   1.137089  0.003366"
      ]
     },
     "execution_count": 22,
     "metadata": {},
     "output_type": "execute_result"
    }
   ],
   "source": [
    "yeniDataFrame[[\"Maaş\",\"Yaş\"]]"
   ]
  },
  {
   "cell_type": "code",
   "execution_count": 26,
   "id": "90345a3c",
   "metadata": {
    "scrolled": true
   },
   "outputs": [
    {
     "data": {
      "text/plain": [
       "Maaş            -0.067137\n",
       "Yaş             -0.584245\n",
       "Çalışma saati    0.217639\n",
       "Name: Fatih, dtype: float64"
      ]
     },
     "execution_count": 26,
     "metadata": {},
     "output_type": "execute_result"
    }
   ],
   "source": [
    "yeniDataFrame.loc [\"Fatih\"]"
   ]
  },
  {
   "cell_type": "code",
   "execution_count": 27,
   "id": "b66443f8",
   "metadata": {},
   "outputs": [
    {
     "data": {
      "text/html": [
       "<div>\n",
       "<style scoped>\n",
       "    .dataframe tbody tr th:only-of-type {\n",
       "        vertical-align: middle;\n",
       "    }\n",
       "\n",
       "    .dataframe tbody tr th {\n",
       "        vertical-align: top;\n",
       "    }\n",
       "\n",
       "    .dataframe thead th {\n",
       "        text-align: right;\n",
       "    }\n",
       "</style>\n",
       "<table border=\"1\" class=\"dataframe\">\n",
       "  <thead>\n",
       "    <tr style=\"text-align: right;\">\n",
       "      <th></th>\n",
       "      <th>Maaş</th>\n",
       "      <th>Yaş</th>\n",
       "      <th>Çalışma saati</th>\n",
       "    </tr>\n",
       "  </thead>\n",
       "  <tbody>\n",
       "    <tr>\n",
       "      <th>Mete</th>\n",
       "      <td>0.687919</td>\n",
       "      <td>-0.118897</td>\n",
       "      <td>0.496992</td>\n",
       "    </tr>\n",
       "    <tr>\n",
       "      <th>Fatih</th>\n",
       "      <td>-0.067137</td>\n",
       "      <td>-0.584245</td>\n",
       "      <td>0.217639</td>\n",
       "    </tr>\n",
       "    <tr>\n",
       "      <th>Timur</th>\n",
       "      <td>0.516575</td>\n",
       "      <td>-0.426095</td>\n",
       "      <td>-0.619420</td>\n",
       "    </tr>\n",
       "    <tr>\n",
       "      <th>Kaan</th>\n",
       "      <td>1.137089</td>\n",
       "      <td>0.003366</td>\n",
       "      <td>-0.089533</td>\n",
       "    </tr>\n",
       "  </tbody>\n",
       "</table>\n",
       "</div>"
      ],
      "text/plain": [
       "           Maaş       Yaş  Çalışma saati\n",
       "Mete   0.687919 -0.118897       0.496992\n",
       "Fatih -0.067137 -0.584245       0.217639\n",
       "Timur  0.516575 -0.426095      -0.619420\n",
       "Kaan   1.137089  0.003366      -0.089533"
      ]
     },
     "execution_count": 27,
     "metadata": {},
     "output_type": "execute_result"
    }
   ],
   "source": [
    "yeniDataFrame"
   ]
  },
  {
   "cell_type": "code",
   "execution_count": 33,
   "id": "ace6f647",
   "metadata": {},
   "outputs": [],
   "source": [
    "yeniDataFrame [\"Emeklilik Yaşı\"] = yeniDataFrame[\"Yaş\"] + yeniDataFrame[\"Yaş\"]"
   ]
  },
  {
   "cell_type": "code",
   "execution_count": 35,
   "id": "7a39f8a3",
   "metadata": {},
   "outputs": [
    {
     "data": {
      "text/html": [
       "<div>\n",
       "<style scoped>\n",
       "    .dataframe tbody tr th:only-of-type {\n",
       "        vertical-align: middle;\n",
       "    }\n",
       "\n",
       "    .dataframe tbody tr th {\n",
       "        vertical-align: top;\n",
       "    }\n",
       "\n",
       "    .dataframe thead th {\n",
       "        text-align: right;\n",
       "    }\n",
       "</style>\n",
       "<table border=\"1\" class=\"dataframe\">\n",
       "  <thead>\n",
       "    <tr style=\"text-align: right;\">\n",
       "      <th></th>\n",
       "      <th>Maaş</th>\n",
       "      <th>Yaş</th>\n",
       "      <th>Çalışma saati</th>\n",
       "      <th>Emeklilik Yaşı</th>\n",
       "    </tr>\n",
       "  </thead>\n",
       "  <tbody>\n",
       "    <tr>\n",
       "      <th>Mete</th>\n",
       "      <td>0.687919</td>\n",
       "      <td>-0.118897</td>\n",
       "      <td>0.496992</td>\n",
       "      <td>-0.237795</td>\n",
       "    </tr>\n",
       "    <tr>\n",
       "      <th>Fatih</th>\n",
       "      <td>-0.067137</td>\n",
       "      <td>-0.584245</td>\n",
       "      <td>0.217639</td>\n",
       "      <td>-1.168491</td>\n",
       "    </tr>\n",
       "    <tr>\n",
       "      <th>Timur</th>\n",
       "      <td>0.516575</td>\n",
       "      <td>-0.426095</td>\n",
       "      <td>-0.619420</td>\n",
       "      <td>-0.852189</td>\n",
       "    </tr>\n",
       "    <tr>\n",
       "      <th>Kaan</th>\n",
       "      <td>1.137089</td>\n",
       "      <td>0.003366</td>\n",
       "      <td>-0.089533</td>\n",
       "      <td>0.006732</td>\n",
       "    </tr>\n",
       "  </tbody>\n",
       "</table>\n",
       "</div>"
      ],
      "text/plain": [
       "           Maaş       Yaş  Çalışma saati  Emeklilik Yaşı\n",
       "Mete   0.687919 -0.118897       0.496992       -0.237795\n",
       "Fatih -0.067137 -0.584245       0.217639       -1.168491\n",
       "Timur  0.516575 -0.426095      -0.619420       -0.852189\n",
       "Kaan   1.137089  0.003366      -0.089533        0.006732"
      ]
     },
     "execution_count": 35,
     "metadata": {},
     "output_type": "execute_result"
    }
   ],
   "source": [
    "yeniDataFrame"
   ]
  },
  {
   "cell_type": "code",
   "execution_count": 36,
   "id": "c12fa23a",
   "metadata": {},
   "outputs": [
    {
     "data": {
      "text/html": [
       "<div>\n",
       "<style scoped>\n",
       "    .dataframe tbody tr th:only-of-type {\n",
       "        vertical-align: middle;\n",
       "    }\n",
       "\n",
       "    .dataframe tbody tr th {\n",
       "        vertical-align: top;\n",
       "    }\n",
       "\n",
       "    .dataframe thead th {\n",
       "        text-align: right;\n",
       "    }\n",
       "</style>\n",
       "<table border=\"1\" class=\"dataframe\">\n",
       "  <thead>\n",
       "    <tr style=\"text-align: right;\">\n",
       "      <th></th>\n",
       "      <th>Maaş</th>\n",
       "      <th>Yaş</th>\n",
       "      <th>Çalışma saati</th>\n",
       "    </tr>\n",
       "  </thead>\n",
       "  <tbody>\n",
       "    <tr>\n",
       "      <th>Mete</th>\n",
       "      <td>0.687919</td>\n",
       "      <td>-0.118897</td>\n",
       "      <td>0.496992</td>\n",
       "    </tr>\n",
       "    <tr>\n",
       "      <th>Fatih</th>\n",
       "      <td>-0.067137</td>\n",
       "      <td>-0.584245</td>\n",
       "      <td>0.217639</td>\n",
       "    </tr>\n",
       "    <tr>\n",
       "      <th>Timur</th>\n",
       "      <td>0.516575</td>\n",
       "      <td>-0.426095</td>\n",
       "      <td>-0.619420</td>\n",
       "    </tr>\n",
       "    <tr>\n",
       "      <th>Kaan</th>\n",
       "      <td>1.137089</td>\n",
       "      <td>0.003366</td>\n",
       "      <td>-0.089533</td>\n",
       "    </tr>\n",
       "  </tbody>\n",
       "</table>\n",
       "</div>"
      ],
      "text/plain": [
       "           Maaş       Yaş  Çalışma saati\n",
       "Mete   0.687919 -0.118897       0.496992\n",
       "Fatih -0.067137 -0.584245       0.217639\n",
       "Timur  0.516575 -0.426095      -0.619420\n",
       "Kaan   1.137089  0.003366      -0.089533"
      ]
     },
     "execution_count": 36,
     "metadata": {},
     "output_type": "execute_result"
    }
   ],
   "source": [
    "yeniDataFrame.drop(\"Emeklilik Yaşı\",axis = 1)"
   ]
  },
  {
   "cell_type": "code",
   "execution_count": 37,
   "id": "fc44950e",
   "metadata": {},
   "outputs": [
    {
     "data": {
      "text/html": [
       "<div>\n",
       "<style scoped>\n",
       "    .dataframe tbody tr th:only-of-type {\n",
       "        vertical-align: middle;\n",
       "    }\n",
       "\n",
       "    .dataframe tbody tr th {\n",
       "        vertical-align: top;\n",
       "    }\n",
       "\n",
       "    .dataframe thead th {\n",
       "        text-align: right;\n",
       "    }\n",
       "</style>\n",
       "<table border=\"1\" class=\"dataframe\">\n",
       "  <thead>\n",
       "    <tr style=\"text-align: right;\">\n",
       "      <th></th>\n",
       "      <th>Maaş</th>\n",
       "      <th>Yaş</th>\n",
       "      <th>Çalışma saati</th>\n",
       "      <th>Emeklilik Yaşı</th>\n",
       "    </tr>\n",
       "  </thead>\n",
       "  <tbody>\n",
       "    <tr>\n",
       "      <th>Mete</th>\n",
       "      <td>0.687919</td>\n",
       "      <td>-0.118897</td>\n",
       "      <td>0.496992</td>\n",
       "      <td>-0.237795</td>\n",
       "    </tr>\n",
       "    <tr>\n",
       "      <th>Fatih</th>\n",
       "      <td>-0.067137</td>\n",
       "      <td>-0.584245</td>\n",
       "      <td>0.217639</td>\n",
       "      <td>-1.168491</td>\n",
       "    </tr>\n",
       "    <tr>\n",
       "      <th>Timur</th>\n",
       "      <td>0.516575</td>\n",
       "      <td>-0.426095</td>\n",
       "      <td>-0.619420</td>\n",
       "      <td>-0.852189</td>\n",
       "    </tr>\n",
       "    <tr>\n",
       "      <th>Kaan</th>\n",
       "      <td>1.137089</td>\n",
       "      <td>0.003366</td>\n",
       "      <td>-0.089533</td>\n",
       "      <td>0.006732</td>\n",
       "    </tr>\n",
       "  </tbody>\n",
       "</table>\n",
       "</div>"
      ],
      "text/plain": [
       "           Maaş       Yaş  Çalışma saati  Emeklilik Yaşı\n",
       "Mete   0.687919 -0.118897       0.496992       -0.237795\n",
       "Fatih -0.067137 -0.584245       0.217639       -1.168491\n",
       "Timur  0.516575 -0.426095      -0.619420       -0.852189\n",
       "Kaan   1.137089  0.003366      -0.089533        0.006732"
      ]
     },
     "execution_count": 37,
     "metadata": {},
     "output_type": "execute_result"
    }
   ],
   "source": [
    "yeniDataFrame"
   ]
  },
  {
   "cell_type": "code",
   "execution_count": 38,
   "id": "53062762",
   "metadata": {},
   "outputs": [],
   "source": [
    "yeniDataFrame.drop(\"Emeklilik Yaşı\", axis =1, inplace=True)"
   ]
  },
  {
   "cell_type": "code",
   "execution_count": 39,
   "id": "23f4e01d",
   "metadata": {},
   "outputs": [
    {
     "data": {
      "text/html": [
       "<div>\n",
       "<style scoped>\n",
       "    .dataframe tbody tr th:only-of-type {\n",
       "        vertical-align: middle;\n",
       "    }\n",
       "\n",
       "    .dataframe tbody tr th {\n",
       "        vertical-align: top;\n",
       "    }\n",
       "\n",
       "    .dataframe thead th {\n",
       "        text-align: right;\n",
       "    }\n",
       "</style>\n",
       "<table border=\"1\" class=\"dataframe\">\n",
       "  <thead>\n",
       "    <tr style=\"text-align: right;\">\n",
       "      <th></th>\n",
       "      <th>Maaş</th>\n",
       "      <th>Yaş</th>\n",
       "      <th>Çalışma saati</th>\n",
       "    </tr>\n",
       "  </thead>\n",
       "  <tbody>\n",
       "    <tr>\n",
       "      <th>Mete</th>\n",
       "      <td>0.687919</td>\n",
       "      <td>-0.118897</td>\n",
       "      <td>0.496992</td>\n",
       "    </tr>\n",
       "    <tr>\n",
       "      <th>Fatih</th>\n",
       "      <td>-0.067137</td>\n",
       "      <td>-0.584245</td>\n",
       "      <td>0.217639</td>\n",
       "    </tr>\n",
       "    <tr>\n",
       "      <th>Timur</th>\n",
       "      <td>0.516575</td>\n",
       "      <td>-0.426095</td>\n",
       "      <td>-0.619420</td>\n",
       "    </tr>\n",
       "    <tr>\n",
       "      <th>Kaan</th>\n",
       "      <td>1.137089</td>\n",
       "      <td>0.003366</td>\n",
       "      <td>-0.089533</td>\n",
       "    </tr>\n",
       "  </tbody>\n",
       "</table>\n",
       "</div>"
      ],
      "text/plain": [
       "           Maaş       Yaş  Çalışma saati\n",
       "Mete   0.687919 -0.118897       0.496992\n",
       "Fatih -0.067137 -0.584245       0.217639\n",
       "Timur  0.516575 -0.426095      -0.619420\n",
       "Kaan   1.137089  0.003366      -0.089533"
      ]
     },
     "execution_count": 39,
     "metadata": {},
     "output_type": "execute_result"
    }
   ],
   "source": [
    "yeniDataFrame"
   ]
  },
  {
   "cell_type": "code",
   "execution_count": 41,
   "id": "61df963e",
   "metadata": {},
   "outputs": [
    {
     "data": {
      "text/plain": [
       "-0.11889730448594195"
      ]
     },
     "execution_count": 41,
     "metadata": {},
     "output_type": "execute_result"
    }
   ],
   "source": [
    "yeniDataFrame.loc[\"Mete\"][\"Yaş\"]"
   ]
  },
  {
   "cell_type": "code",
   "execution_count": 42,
   "id": "ba3c9d8b",
   "metadata": {},
   "outputs": [
    {
     "data": {
      "text/plain": [
       "-0.4260945028585283"
      ]
     },
     "execution_count": 42,
     "metadata": {},
     "output_type": "execute_result"
    }
   ],
   "source": [
    "yeniDataFrame.loc[\"Timur\",\"Yaş\"]"
   ]
  },
  {
   "cell_type": "code",
   "execution_count": 43,
   "id": "ed0a1582",
   "metadata": {},
   "outputs": [
    {
     "data": {
      "text/html": [
       "<div>\n",
       "<style scoped>\n",
       "    .dataframe tbody tr th:only-of-type {\n",
       "        vertical-align: middle;\n",
       "    }\n",
       "\n",
       "    .dataframe tbody tr th {\n",
       "        vertical-align: top;\n",
       "    }\n",
       "\n",
       "    .dataframe thead th {\n",
       "        text-align: right;\n",
       "    }\n",
       "</style>\n",
       "<table border=\"1\" class=\"dataframe\">\n",
       "  <thead>\n",
       "    <tr style=\"text-align: right;\">\n",
       "      <th></th>\n",
       "      <th>Maaş</th>\n",
       "      <th>Yaş</th>\n",
       "      <th>Çalışma saati</th>\n",
       "    </tr>\n",
       "  </thead>\n",
       "  <tbody>\n",
       "    <tr>\n",
       "      <th>Mete</th>\n",
       "      <td>0.687919</td>\n",
       "      <td>-0.118897</td>\n",
       "      <td>0.496992</td>\n",
       "    </tr>\n",
       "    <tr>\n",
       "      <th>Fatih</th>\n",
       "      <td>-0.067137</td>\n",
       "      <td>-0.584245</td>\n",
       "      <td>0.217639</td>\n",
       "    </tr>\n",
       "    <tr>\n",
       "      <th>Timur</th>\n",
       "      <td>0.516575</td>\n",
       "      <td>-0.426095</td>\n",
       "      <td>-0.619420</td>\n",
       "    </tr>\n",
       "    <tr>\n",
       "      <th>Kaan</th>\n",
       "      <td>1.137089</td>\n",
       "      <td>0.003366</td>\n",
       "      <td>-0.089533</td>\n",
       "    </tr>\n",
       "  </tbody>\n",
       "</table>\n",
       "</div>"
      ],
      "text/plain": [
       "           Maaş       Yaş  Çalışma saati\n",
       "Mete   0.687919 -0.118897       0.496992\n",
       "Fatih -0.067137 -0.584245       0.217639\n",
       "Timur  0.516575 -0.426095      -0.619420\n",
       "Kaan   1.137089  0.003366      -0.089533"
      ]
     },
     "execution_count": 43,
     "metadata": {},
     "output_type": "execute_result"
    }
   ],
   "source": [
    "yeniDataFrame"
   ]
  },
  {
   "cell_type": "code",
   "execution_count": 44,
   "id": "a287cf2a",
   "metadata": {},
   "outputs": [
    {
     "data": {
      "text/html": [
       "<div>\n",
       "<style scoped>\n",
       "    .dataframe tbody tr th:only-of-type {\n",
       "        vertical-align: middle;\n",
       "    }\n",
       "\n",
       "    .dataframe tbody tr th {\n",
       "        vertical-align: top;\n",
       "    }\n",
       "\n",
       "    .dataframe thead th {\n",
       "        text-align: right;\n",
       "    }\n",
       "</style>\n",
       "<table border=\"1\" class=\"dataframe\">\n",
       "  <thead>\n",
       "    <tr style=\"text-align: right;\">\n",
       "      <th></th>\n",
       "      <th>Maaş</th>\n",
       "      <th>Yaş</th>\n",
       "      <th>Çalışma saati</th>\n",
       "    </tr>\n",
       "  </thead>\n",
       "  <tbody>\n",
       "    <tr>\n",
       "      <th>Mete</th>\n",
       "      <td>False</td>\n",
       "      <td>True</td>\n",
       "      <td>False</td>\n",
       "    </tr>\n",
       "    <tr>\n",
       "      <th>Fatih</th>\n",
       "      <td>True</td>\n",
       "      <td>True</td>\n",
       "      <td>False</td>\n",
       "    </tr>\n",
       "    <tr>\n",
       "      <th>Timur</th>\n",
       "      <td>False</td>\n",
       "      <td>True</td>\n",
       "      <td>True</td>\n",
       "    </tr>\n",
       "    <tr>\n",
       "      <th>Kaan</th>\n",
       "      <td>False</td>\n",
       "      <td>False</td>\n",
       "      <td>True</td>\n",
       "    </tr>\n",
       "  </tbody>\n",
       "</table>\n",
       "</div>"
      ],
      "text/plain": [
       "        Maaş    Yaş  Çalışma saati\n",
       "Mete   False   True          False\n",
       "Fatih   True   True          False\n",
       "Timur  False   True           True\n",
       "Kaan   False  False           True"
      ]
     },
     "execution_count": 44,
     "metadata": {},
     "output_type": "execute_result"
    }
   ],
   "source": [
    "yeniDataFrame<0"
   ]
  },
  {
   "cell_type": "code",
   "execution_count": 47,
   "id": "a03b8170",
   "metadata": {},
   "outputs": [
    {
     "data": {
      "text/html": [
       "<div>\n",
       "<style scoped>\n",
       "    .dataframe tbody tr th:only-of-type {\n",
       "        vertical-align: middle;\n",
       "    }\n",
       "\n",
       "    .dataframe tbody tr th {\n",
       "        vertical-align: top;\n",
       "    }\n",
       "\n",
       "    .dataframe thead th {\n",
       "        text-align: right;\n",
       "    }\n",
       "</style>\n",
       "<table border=\"1\" class=\"dataframe\">\n",
       "  <thead>\n",
       "    <tr style=\"text-align: right;\">\n",
       "      <th></th>\n",
       "      <th>Maaş</th>\n",
       "      <th>Yaş</th>\n",
       "      <th>Çalışma saati</th>\n",
       "    </tr>\n",
       "  </thead>\n",
       "  <tbody>\n",
       "    <tr>\n",
       "      <th>Kaan</th>\n",
       "      <td>1.137089</td>\n",
       "      <td>0.003366</td>\n",
       "      <td>-0.089533</td>\n",
       "    </tr>\n",
       "  </tbody>\n",
       "</table>\n",
       "</div>"
      ],
      "text/plain": [
       "          Maaş       Yaş  Çalışma saati\n",
       "Kaan  1.137089  0.003366      -0.089533"
      ]
     },
     "execution_count": 47,
     "metadata": {},
     "output_type": "execute_result"
    }
   ],
   "source": [
    "yeniDataFrame[yeniDataFrame[\"Yaş\"]>0]"
   ]
  },
  {
   "cell_type": "code",
   "execution_count": 48,
   "id": "5e7b0cfc",
   "metadata": {},
   "outputs": [
    {
     "data": {
      "text/html": [
       "<div>\n",
       "<style scoped>\n",
       "    .dataframe tbody tr th:only-of-type {\n",
       "        vertical-align: middle;\n",
       "    }\n",
       "\n",
       "    .dataframe tbody tr th {\n",
       "        vertical-align: top;\n",
       "    }\n",
       "\n",
       "    .dataframe thead th {\n",
       "        text-align: right;\n",
       "    }\n",
       "</style>\n",
       "<table border=\"1\" class=\"dataframe\">\n",
       "  <thead>\n",
       "    <tr style=\"text-align: right;\">\n",
       "      <th></th>\n",
       "      <th>Maaş</th>\n",
       "      <th>Yaş</th>\n",
       "      <th>Çalışma saati</th>\n",
       "    </tr>\n",
       "  </thead>\n",
       "  <tbody>\n",
       "    <tr>\n",
       "      <th>Fatih</th>\n",
       "      <td>-0.067137</td>\n",
       "      <td>-0.584245</td>\n",
       "      <td>0.217639</td>\n",
       "    </tr>\n",
       "  </tbody>\n",
       "</table>\n",
       "</div>"
      ],
      "text/plain": [
       "           Maaş       Yaş  Çalışma saati\n",
       "Fatih -0.067137 -0.584245       0.217639"
      ]
     },
     "execution_count": 48,
     "metadata": {},
     "output_type": "execute_result"
    }
   ],
   "source": [
    "yeniDataFrame[yeniDataFrame[\"Maaş\"]<0]"
   ]
  },
  {
   "cell_type": "code",
   "execution_count": 49,
   "id": "9d7fe9ec",
   "metadata": {},
   "outputs": [],
   "source": [
    "#indeks değiştirme"
   ]
  },
  {
   "cell_type": "code",
   "execution_count": 50,
   "id": "744f4051",
   "metadata": {},
   "outputs": [
    {
     "data": {
      "text/html": [
       "<div>\n",
       "<style scoped>\n",
       "    .dataframe tbody tr th:only-of-type {\n",
       "        vertical-align: middle;\n",
       "    }\n",
       "\n",
       "    .dataframe tbody tr th {\n",
       "        vertical-align: top;\n",
       "    }\n",
       "\n",
       "    .dataframe thead th {\n",
       "        text-align: right;\n",
       "    }\n",
       "</style>\n",
       "<table border=\"1\" class=\"dataframe\">\n",
       "  <thead>\n",
       "    <tr style=\"text-align: right;\">\n",
       "      <th></th>\n",
       "      <th>index</th>\n",
       "      <th>Maaş</th>\n",
       "      <th>Yaş</th>\n",
       "      <th>Çalışma saati</th>\n",
       "    </tr>\n",
       "  </thead>\n",
       "  <tbody>\n",
       "    <tr>\n",
       "      <th>0</th>\n",
       "      <td>Mete</td>\n",
       "      <td>0.687919</td>\n",
       "      <td>-0.118897</td>\n",
       "      <td>0.496992</td>\n",
       "    </tr>\n",
       "    <tr>\n",
       "      <th>1</th>\n",
       "      <td>Fatih</td>\n",
       "      <td>-0.067137</td>\n",
       "      <td>-0.584245</td>\n",
       "      <td>0.217639</td>\n",
       "    </tr>\n",
       "    <tr>\n",
       "      <th>2</th>\n",
       "      <td>Timur</td>\n",
       "      <td>0.516575</td>\n",
       "      <td>-0.426095</td>\n",
       "      <td>-0.619420</td>\n",
       "    </tr>\n",
       "    <tr>\n",
       "      <th>3</th>\n",
       "      <td>Kaan</td>\n",
       "      <td>1.137089</td>\n",
       "      <td>0.003366</td>\n",
       "      <td>-0.089533</td>\n",
       "    </tr>\n",
       "  </tbody>\n",
       "</table>\n",
       "</div>"
      ],
      "text/plain": [
       "   index      Maaş       Yaş  Çalışma saati\n",
       "0   Mete  0.687919 -0.118897       0.496992\n",
       "1  Fatih -0.067137 -0.584245       0.217639\n",
       "2  Timur  0.516575 -0.426095      -0.619420\n",
       "3   Kaan  1.137089  0.003366      -0.089533"
      ]
     },
     "execution_count": 50,
     "metadata": {},
     "output_type": "execute_result"
    }
   ],
   "source": [
    "yeniDataFrame.reset_index()"
   ]
  },
  {
   "cell_type": "code",
   "execution_count": 51,
   "id": "64aac8d5",
   "metadata": {},
   "outputs": [
    {
     "data": {
      "text/html": [
       "<div>\n",
       "<style scoped>\n",
       "    .dataframe tbody tr th:only-of-type {\n",
       "        vertical-align: middle;\n",
       "    }\n",
       "\n",
       "    .dataframe tbody tr th {\n",
       "        vertical-align: top;\n",
       "    }\n",
       "\n",
       "    .dataframe thead th {\n",
       "        text-align: right;\n",
       "    }\n",
       "</style>\n",
       "<table border=\"1\" class=\"dataframe\">\n",
       "  <thead>\n",
       "    <tr style=\"text-align: right;\">\n",
       "      <th></th>\n",
       "      <th>Maaş</th>\n",
       "      <th>Yaş</th>\n",
       "      <th>Çalışma saati</th>\n",
       "    </tr>\n",
       "  </thead>\n",
       "  <tbody>\n",
       "    <tr>\n",
       "      <th>Mete</th>\n",
       "      <td>0.687919</td>\n",
       "      <td>-0.118897</td>\n",
       "      <td>0.496992</td>\n",
       "    </tr>\n",
       "    <tr>\n",
       "      <th>Fatih</th>\n",
       "      <td>-0.067137</td>\n",
       "      <td>-0.584245</td>\n",
       "      <td>0.217639</td>\n",
       "    </tr>\n",
       "    <tr>\n",
       "      <th>Timur</th>\n",
       "      <td>0.516575</td>\n",
       "      <td>-0.426095</td>\n",
       "      <td>-0.619420</td>\n",
       "    </tr>\n",
       "    <tr>\n",
       "      <th>Kaan</th>\n",
       "      <td>1.137089</td>\n",
       "      <td>0.003366</td>\n",
       "      <td>-0.089533</td>\n",
       "    </tr>\n",
       "  </tbody>\n",
       "</table>\n",
       "</div>"
      ],
      "text/plain": [
       "           Maaş       Yaş  Çalışma saati\n",
       "Mete   0.687919 -0.118897       0.496992\n",
       "Fatih -0.067137 -0.584245       0.217639\n",
       "Timur  0.516575 -0.426095      -0.619420\n",
       "Kaan   1.137089  0.003366      -0.089533"
      ]
     },
     "execution_count": 51,
     "metadata": {},
     "output_type": "execute_result"
    }
   ],
   "source": [
    "yeniDataFrame"
   ]
  },
  {
   "cell_type": "code",
   "execution_count": 52,
   "id": "ee26611a",
   "metadata": {},
   "outputs": [],
   "source": [
    "yeniIndeksListesi = [\"Met\",\"Fat\",\"Tim\",\"Kaa\"]"
   ]
  },
  {
   "cell_type": "code",
   "execution_count": 55,
   "id": "76b4f201",
   "metadata": {},
   "outputs": [],
   "source": [
    "yeniDataFrame [\"Yeni Indeks\"] = yeniIndeksListesi"
   ]
  },
  {
   "cell_type": "code",
   "execution_count": 56,
   "id": "49e2f843",
   "metadata": {},
   "outputs": [
    {
     "data": {
      "text/html": [
       "<div>\n",
       "<style scoped>\n",
       "    .dataframe tbody tr th:only-of-type {\n",
       "        vertical-align: middle;\n",
       "    }\n",
       "\n",
       "    .dataframe tbody tr th {\n",
       "        vertical-align: top;\n",
       "    }\n",
       "\n",
       "    .dataframe thead th {\n",
       "        text-align: right;\n",
       "    }\n",
       "</style>\n",
       "<table border=\"1\" class=\"dataframe\">\n",
       "  <thead>\n",
       "    <tr style=\"text-align: right;\">\n",
       "      <th></th>\n",
       "      <th>Maaş</th>\n",
       "      <th>Yaş</th>\n",
       "      <th>Çalışma saati</th>\n",
       "      <th>Yeni Indeks</th>\n",
       "    </tr>\n",
       "  </thead>\n",
       "  <tbody>\n",
       "    <tr>\n",
       "      <th>Mete</th>\n",
       "      <td>0.687919</td>\n",
       "      <td>-0.118897</td>\n",
       "      <td>0.496992</td>\n",
       "      <td>Met</td>\n",
       "    </tr>\n",
       "    <tr>\n",
       "      <th>Fatih</th>\n",
       "      <td>-0.067137</td>\n",
       "      <td>-0.584245</td>\n",
       "      <td>0.217639</td>\n",
       "      <td>Fat</td>\n",
       "    </tr>\n",
       "    <tr>\n",
       "      <th>Timur</th>\n",
       "      <td>0.516575</td>\n",
       "      <td>-0.426095</td>\n",
       "      <td>-0.619420</td>\n",
       "      <td>Tim</td>\n",
       "    </tr>\n",
       "    <tr>\n",
       "      <th>Kaan</th>\n",
       "      <td>1.137089</td>\n",
       "      <td>0.003366</td>\n",
       "      <td>-0.089533</td>\n",
       "      <td>Kaa</td>\n",
       "    </tr>\n",
       "  </tbody>\n",
       "</table>\n",
       "</div>"
      ],
      "text/plain": [
       "           Maaş       Yaş  Çalışma saati Yeni Indeks\n",
       "Mete   0.687919 -0.118897       0.496992         Met\n",
       "Fatih -0.067137 -0.584245       0.217639         Fat\n",
       "Timur  0.516575 -0.426095      -0.619420         Tim\n",
       "Kaan   1.137089  0.003366      -0.089533         Kaa"
      ]
     },
     "execution_count": 56,
     "metadata": {},
     "output_type": "execute_result"
    }
   ],
   "source": [
    "yeniDataFrame"
   ]
  },
  {
   "cell_type": "code",
   "execution_count": 59,
   "id": "3d953895",
   "metadata": {},
   "outputs": [],
   "source": [
    "yeniDataFrame.set_index(\"Yeni Indeks\",inplace=True)"
   ]
  },
  {
   "cell_type": "code",
   "execution_count": 60,
   "id": "c279699e",
   "metadata": {},
   "outputs": [
    {
     "data": {
      "text/html": [
       "<div>\n",
       "<style scoped>\n",
       "    .dataframe tbody tr th:only-of-type {\n",
       "        vertical-align: middle;\n",
       "    }\n",
       "\n",
       "    .dataframe tbody tr th {\n",
       "        vertical-align: top;\n",
       "    }\n",
       "\n",
       "    .dataframe thead th {\n",
       "        text-align: right;\n",
       "    }\n",
       "</style>\n",
       "<table border=\"1\" class=\"dataframe\">\n",
       "  <thead>\n",
       "    <tr style=\"text-align: right;\">\n",
       "      <th></th>\n",
       "      <th>Maaş</th>\n",
       "      <th>Yaş</th>\n",
       "      <th>Çalışma saati</th>\n",
       "    </tr>\n",
       "    <tr>\n",
       "      <th>Yeni Indeks</th>\n",
       "      <th></th>\n",
       "      <th></th>\n",
       "      <th></th>\n",
       "    </tr>\n",
       "  </thead>\n",
       "  <tbody>\n",
       "    <tr>\n",
       "      <th>Met</th>\n",
       "      <td>0.687919</td>\n",
       "      <td>-0.118897</td>\n",
       "      <td>0.496992</td>\n",
       "    </tr>\n",
       "    <tr>\n",
       "      <th>Fat</th>\n",
       "      <td>-0.067137</td>\n",
       "      <td>-0.584245</td>\n",
       "      <td>0.217639</td>\n",
       "    </tr>\n",
       "    <tr>\n",
       "      <th>Tim</th>\n",
       "      <td>0.516575</td>\n",
       "      <td>-0.426095</td>\n",
       "      <td>-0.619420</td>\n",
       "    </tr>\n",
       "    <tr>\n",
       "      <th>Kaa</th>\n",
       "      <td>1.137089</td>\n",
       "      <td>0.003366</td>\n",
       "      <td>-0.089533</td>\n",
       "    </tr>\n",
       "  </tbody>\n",
       "</table>\n",
       "</div>"
      ],
      "text/plain": [
       "                 Maaş       Yaş  Çalışma saati\n",
       "Yeni Indeks                                   \n",
       "Met          0.687919 -0.118897       0.496992\n",
       "Fat         -0.067137 -0.584245       0.217639\n",
       "Tim          0.516575 -0.426095      -0.619420\n",
       "Kaa          1.137089  0.003366      -0.089533"
      ]
     },
     "execution_count": 60,
     "metadata": {},
     "output_type": "execute_result"
    }
   ],
   "source": [
    "yeniDataFrame"
   ]
  },
  {
   "cell_type": "code",
   "execution_count": null,
   "id": "1706daab",
   "metadata": {},
   "outputs": [],
   "source": []
  }
 ],
 "metadata": {
  "kernelspec": {
   "display_name": "Python 3 (ipykernel)",
   "language": "python",
   "name": "python3"
  },
  "language_info": {
   "codemirror_mode": {
    "name": "ipython",
    "version": 3
   },
   "file_extension": ".py",
   "mimetype": "text/x-python",
   "name": "python",
   "nbconvert_exporter": "python",
   "pygments_lexer": "ipython3",
   "version": "3.9.7"
  }
 },
 "nbformat": 4,
 "nbformat_minor": 5
}
